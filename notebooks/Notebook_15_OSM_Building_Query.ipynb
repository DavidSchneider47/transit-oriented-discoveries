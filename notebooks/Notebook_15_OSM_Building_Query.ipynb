{
  "nbformat": 4,
  "nbformat_minor": 0,
  "metadata": {
    "colab": {
      "provenance": []
    },
    "kernelspec": {
      "name": "python3",
      "display_name": "Python 3"
    },
    "language_info": {
      "name": "python"
    }
  },
  "cells": [
    {
      "cell_type": "markdown",
      "source": [
        "This notebook provides code to qury the OpenStreetMap API to identify the number of buildings and the total building area within a 1/2 mile radius of a fixed point. For more information please visit https://www.transitorienteddiscoveries.com/blog."
      ],
      "metadata": {
        "id": "SeAjWMBrnVtp"
      }
    },
    {
      "cell_type": "code",
      "execution_count": 1,
      "metadata": {
        "colab": {
          "base_uri": "https://localhost:8080/"
        },
        "id": "L21YPYL7GzEr",
        "outputId": "740ec6f0-b6f3-4fb6-9496-9e5b727b064f"
      },
      "outputs": [
        {
          "output_type": "stream",
          "name": "stdout",
          "text": [
            "Number of buildings within 0.5 mile: 796\n",
            "Total land area occupied by buildings: 3207287.84 square feet\n"
          ]
        }
      ],
      "source": [
        "import requests\n",
        "from shapely.geometry import Point, Polygon, shape\n",
        "import geopandas as gpd\n",
        "\n",
        "# Define constants\n",
        "latitude = 37.8931\n",
        "longitude = -122.12463\n",
        "radius_miles = 0.5\n",
        "radius_meters = radius_miles * 1609.34  # convert miles to meters\n",
        "\n",
        "# Function to query Overpass API\n",
        "def query_overpass(lat, lon, radius):\n",
        "    overpass_url = \"http://overpass-api.de/api/interpreter\"\n",
        "    query = f\"\"\"\n",
        "    [out:json];\n",
        "    (\n",
        "      way[\"building\"](around:{radius},{lat},{lon});\n",
        "    );\n",
        "    out body;\n",
        "    >;\n",
        "    out skel qt;\n",
        "    \"\"\"\n",
        "    response = requests.get(overpass_url, params={'data': query})\n",
        "    data = response.json()\n",
        "    return data\n",
        "\n",
        "# Function to calculate the area occupied by buildings\n",
        "def calculate_building_area(data):\n",
        "    # Convert response to GeoDataFrame\n",
        "    elements = data['elements']\n",
        "    ways = [el for el in elements if el['type'] == 'way']\n",
        "    coords = {el['id']: (el['lon'], el['lat']) for el in elements if el['type'] == 'node'}\n",
        "\n",
        "    polygons = []\n",
        "    for way in ways:\n",
        "        polygon_coords = [(coords[node_id][0], coords[node_id][1]) for node_id in way['nodes'] if node_id in coords]\n",
        "        if polygon_coords and polygon_coords[0] == polygon_coords[-1]:  # check if it's a closed polygon\n",
        "            polygons.append(Polygon(polygon_coords))\n",
        "\n",
        "    gdf = gpd.GeoDataFrame({'geometry': polygons}, crs=\"EPSG:4326\")\n",
        "    gdf = gdf.to_crs(epsg=32610)  # Convert to a metric CRS (UTM zone 10N for the Bay Area)\n",
        "\n",
        "    total_area_m2 = gdf.area.sum()\n",
        "    total_area_ft2 = total_area_m2 * 10.7639  # Convert square meters to square feet\n",
        "    return len(polygons), total_area_ft2\n",
        "\n",
        "# Perform the query and calculate the area\n",
        "data = query_overpass(latitude, longitude, radius_meters)\n",
        "num_buildings, total_area_ft2 = calculate_building_area(data)\n",
        "\n",
        "# Print the results\n",
        "print(f\"Number of buildings within {radius_miles} mile: {num_buildings}\")\n",
        "print(f\"Total land area occupied by buildings: {total_area_ft2:.2f} square feet\")\n"
      ]
    }
  ]
}