{
  "nbformat": 4,
  "nbformat_minor": 0,
  "metadata": {
    "colab": {
      "provenance": []
    },
    "kernelspec": {
      "name": "python3",
      "display_name": "Python 3"
    },
    "language_info": {
      "name": "python"
    }
  },
  "cells": [
    {
      "cell_type": "markdown",
      "source": [
        "This notebook contains code for identifying specified amenities tagged in OpenStreetMap within a circle with a 1/4 mile radius around transit facilities whose coordinates are stored on a CSV file. The first code block identifies the presence or absence of an amenity and the second code block counts the number of amenities."
      ],
      "metadata": {
        "id": "zxbZBnAi_MhM"
      }
    },
    {
      "cell_type": "code",
      "execution_count": null,
      "metadata": {
        "colab": {
          "base_uri": "https://localhost:8080/"
        },
        "id": "y081zeTXXSqL",
        "outputId": "bd8b9593-0a93-412e-da82-cddd45ff71bf"
      },
      "outputs": [
        {
          "output_type": "stream",
          "name": "stdout",
          "text": [
            "Collecting overpy\n",
            "  Downloading overpy-0.7-py3-none-any.whl (14 kB)\n",
            "Installing collected packages: overpy\n",
            "Successfully installed overpy-0.7\n"
          ]
        }
      ],
      "source": [
        "pip install overpy"
      ]
    },
    {
      "cell_type": "markdown",
      "source": [
        "### **Identify the Presence or Absence of an Amenity by Category**"
      ],
      "metadata": {
        "id": "0Mkr6wNjd9ju"
      }
    },
    {
      "cell_type": "code",
      "source": [
        "import overpy\n",
        "import csv\n",
        "import pandas as pd\n",
        "\n",
        "def check_amenities_nearby(lat, lon, radius_meters, tags):\n",
        "    api = overpy.Overpass()\n",
        "    results_dict = {}\n",
        "\n",
        "    for tag in tags:\n",
        "        key, value = tag.split(\"=\")\n",
        "        query = f\"\"\"\n",
        "        [out:json];\n",
        "        (\n",
        "            node[\"{key}\"=\"{value}\"](around:{radius_meters},{lat},{lon});\n",
        "            way[\"{key}\"=\"{value}\"](around:{radius_meters},{lat},{lon});\n",
        "        );\n",
        "        out body;\n",
        "        \"\"\"\n",
        "\n",
        "        # Execute the query\n",
        "        result = api.query(query)\n",
        "\n",
        "        # Check the presence of the amenity/tag\n",
        "        if len(result.nodes) + len(result.ways) > 0:\n",
        "            results_dict[tag] = 1\n",
        "        else:\n",
        "            results_dict[tag] = 0\n",
        "\n",
        "    return results_dict\n",
        "\n",
        "# Load the CSV file using pandas\n",
        "df = pd.read_csv('LatLon7.csv')\n",
        "\n",
        "# Define the radius and tags list\n",
        "radius = 402.34\n",
        "tags_list = [\n",
        "    \"amenity=community_centre\",\n",
        "    \"amenity=library\",\n",
        "    \"tourism=museum\",\n",
        "    \"amenity=theatre\",\n",
        "    \"amenity=cinema\",\n",
        "    \"amenity=nightclub\",\n",
        "    \"leisure=bowling_alley\",\n",
        "    \"amenity=pharmacy\",\n",
        "    \"amenity=hospital\",\n",
        "    \"amenity=clinic\",\n",
        "    \"amenity=doctors\",\n",
        "    \"amenity=dentist\",\n",
        "    \"shop=supermarket\",\n",
        "    \"shop=clothes\",\n",
        "    \"shop=fashion\"\n",
        "]\n",
        "\n",
        "# Open an output CSV to save the results\n",
        "with open('LatLon5FormattedResults3.csv', 'w', newline='') as csvfile:\n",
        "    csvwriter = csv.writer(csvfile)\n",
        "\n",
        "    # Write the header row\n",
        "    headers = [\"Facility ID\", \"Latitude\", \"Longitude\"] + tags_list\n",
        "    csvwriter.writerow(headers)\n",
        "\n",
        "    # Loop through each row and fetch results\n",
        "    for index, row in df.iterrows():\n",
        "        lat, lon, facility_id = row['Latitude'], row['Longitude'], row['Facility ID']\n",
        "        results = check_amenities_nearby(lat, lon, radius, tags_list)\n",
        "        row_data = [facility_id, lat, lon] + [results[tag] for tag in tags_list]\n",
        "        csvwriter.writerow(row_data)\n",
        "\n",
        "print(\"Results saved to LatLon5FormattedResults3.csv\")\n"
      ],
      "metadata": {
        "colab": {
          "base_uri": "https://localhost:8080/"
        },
        "id": "e_2BKxyikgd9",
        "outputId": "36bbd45c-f1df-4729-c59a-f0ad07f7de9c"
      },
      "execution_count": null,
      "outputs": [
        {
          "output_type": "stream",
          "name": "stdout",
          "text": [
            "Results saved to LatLon5FormattedResults3.csv\n"
          ]
        }
      ]
    },
    {
      "cell_type": "markdown",
      "source": [
        "### **Count the Total Number of Amenities by Category**"
      ],
      "metadata": {
        "id": "_dLrJLcTx2F4"
      }
    },
    {
      "cell_type": "code",
      "source": [
        "import overpy\n",
        "import csv\n",
        "import pandas as pd\n",
        "\n",
        "def check_amenities_nearby(lat, lon, radius_meters, tags):\n",
        "    api = overpy.Overpass()\n",
        "    results_dict = {}\n",
        "\n",
        "    for tag in tags:\n",
        "        key, value = tag.split(\"=\")\n",
        "        query = f\"\"\"\n",
        "        [out:json];\n",
        "        (\n",
        "            node[\"{key}\"=\"{value}\"](around:{radius_meters},{lat},{lon});\n",
        "            way[\"{key}\"=\"{value}\"](around:{radius_meters},{lat},{lon});\n",
        "        );\n",
        "        out body;\n",
        "        \"\"\"\n",
        "\n",
        "        # Execute the query\n",
        "        result = api.query(query)\n",
        "\n",
        "        # Count the total number of amenities for the tag\n",
        "        total_amenities = len(result.nodes) + len(result.ways)\n",
        "        results_dict[tag] = total_amenities\n",
        "\n",
        "    return results_dict\n",
        "\n",
        "# Load the CSV file using pandas\n",
        "df = pd.read_csv('LatLon7.csv')\n",
        "\n",
        "# Define the radius and tags list\n",
        "radius = 402.34  # 1/4 mile in meters\n",
        "tags_list = [\n",
        "    \"amenity=community_centre\",\n",
        "    \"amenity=library\",\n",
        "    \"tourism=museum\",\n",
        "    \"amenity=theatre\",\n",
        "    \"amenity=cinema\",\n",
        "    \"amenity=nightclub\",\n",
        "    \"leisure=bowling_alley\",\n",
        "    \"amenity=pharmacy\",\n",
        "    \"amenity=hospital\",\n",
        "    \"amenity=clinic\",\n",
        "    \"amenity=doctors\",\n",
        "    \"amenity=dentist\",\n",
        "    \"shop=supermarket\",  # Assuming this is the tag for grocery stores\n",
        "    \"shop=clothes\",\n",
        "    \"shop=fashion\"\n",
        "]\n",
        "\n",
        "# Open an output CSV to save the results\n",
        "with open('LatLon5FormattedResults4.csv', 'w', newline='') as csvfile:\n",
        "    csvwriter = csv.writer(csvfile)\n",
        "\n",
        "    # Write the header row\n",
        "    headers = [\"Facility ID\", \"Latitude\", \"Longitude\"] + tags_list\n",
        "    csvwriter.writerow(headers)\n",
        "\n",
        "    # Loop through each row and fetch results\n",
        "    for index, row in df.iterrows():\n",
        "        lat, lon, facility_id = row['Latitude'], row['Longitude'], row['Facility ID']\n",
        "        results = check_amenities_nearby(lat, lon, radius, tags_list)\n",
        "        row_data = [facility_id, lat, lon] + [results[tag] for tag in tags_list]\n",
        "        csvwriter.writerow(row_data)\n",
        "\n",
        "print(\"Results saved to LatLon5FormattedResults4.csv\")\n"
      ],
      "metadata": {
        "colab": {
          "base_uri": "https://localhost:8080/"
        },
        "id": "uJNccjMluHs8",
        "outputId": "14d6e7e2-edcb-4880-948a-95ccd9e7dd1b"
      },
      "execution_count": null,
      "outputs": [
        {
          "output_type": "stream",
          "name": "stdout",
          "text": [
            "Results saved to LatLon5FormattedResults4.csv\n"
          ]
        }
      ]
    },
    {
      "cell_type": "markdown",
      "source": [
        "### **END**"
      ],
      "metadata": {
        "id": "97SMNXmmx8il"
      }
    }
  ]
}