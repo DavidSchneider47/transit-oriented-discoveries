{
  "nbformat": 4,
  "nbformat_minor": 0,
  "metadata": {
    "colab": {
      "provenance": []
    },
    "kernelspec": {
      "name": "python3",
      "display_name": "Python 3"
    },
    "language_info": {
      "name": "python"
    }
  },
  "cells": [
    {
      "cell_type": "markdown",
      "source": [
        "### **Install the OSM API**"
      ],
      "metadata": {
        "id": "g2hbRc1cF3PI"
      }
    },
    {
      "cell_type": "code",
      "source": [
        "pip install overpy"
      ],
      "metadata": {
        "colab": {
          "base_uri": "https://localhost:8080/"
        },
        "id": "zxNu91jzXxEw",
        "outputId": "017dd204-98a3-41b0-f05f-bee59a2c4639"
      },
      "execution_count": null,
      "outputs": [
        {
          "output_type": "stream",
          "name": "stdout",
          "text": [
            "Collecting overpy\n",
            "  Downloading overpy-0.7-py3-none-any.whl (14 kB)\n",
            "Installing collected packages: overpy\n",
            "Successfully installed overpy-0.7\n"
          ]
        }
      ]
    },
    {
      "cell_type": "markdown",
      "source": [
        "### **Identify Selected Land Uses 1/4 Mile Around Stations and Calculate the Land Cover and Number of Buildings**"
      ],
      "metadata": {
        "id": "S9xiUaUpGGU_"
      }
    },
    {
      "cell_type": "code",
      "source": [
        "import csv\n",
        "import overpy\n",
        "import requests\n",
        "from shapely.geometry import Polygon\n",
        "from pyproj import Transformer\n",
        "\n",
        "def query_area_for_tags(lat, lon, radius_meters, tags):\n",
        "    api = overpy.Overpass()\n",
        "\n",
        "    # Build the query for the given tags\n",
        "    query = \"[out:json];(\"\n",
        "    for tag in tags:\n",
        "        query += f'way[{tag}](around:{radius_meters},{lat},{lon});'\n",
        "    query += \");out body;>;out skel qt;\"\n",
        "\n",
        "    # Execute the query\n",
        "    result = api.query(query)\n",
        "\n",
        "    # Calculate total area\n",
        "    total_area = 0.0\n",
        "    transformer = Transformer.from_crs(\"EPSG:4326\", \"EPSG:3857\", always_xy=True)\n",
        "    for way in result.ways:\n",
        "        coords = [(node.lon, node.lat) for node in way.nodes]\n",
        "        if len(coords) < 4:\n",
        "            continue  # Skip ways with insufficient nodes to form a polygon\n",
        "        projected_coords = [transformer.transform(lon, lat) for lon, lat in coords]\n",
        "        polygon = Polygon(projected_coords)\n",
        "        total_area += polygon.area\n",
        "\n",
        "    return total_area\n",
        "\n",
        "def query_building_count(lat, lon, radius_meters):\n",
        "    # Define the Overpass API endpoint\n",
        "    overpass_url = \"http://overpass-api.de/api/interpreter\"\n",
        "\n",
        "    # Define the Overpass QL query for building count\n",
        "    overpass_query = f\"\"\"\n",
        "    [out:json];\n",
        "    (\n",
        "      node[\"building\"](around:{radius_meters},{lat},{lon});\n",
        "      way[\"building\"](around:{radius_meters},{lat},{lon});\n",
        "      relation[\"building\"](around:{radius_meters},{lat},{lon});\n",
        "    );\n",
        "    out count;\n",
        "    \"\"\"\n",
        "\n",
        "    # Send the request to the Overpass API\n",
        "    response = requests.get(overpass_url, params={'data': overpass_query})\n",
        "\n",
        "    # Parse the response\n",
        "    if response.status_code == 200:\n",
        "        data = response.json()\n",
        "        return data['elements'][0]['tags']['total']  # Extract the total count\n",
        "    else:\n",
        "        return \"Error\"\n",
        "\n",
        "vector_tags = {\n",
        "    \"Building Footprint\": [\"building\"],\n",
        "    \"Highway\": [\"highway=motorway\", \"highway=motorway_link\"],\n",
        "    \"Trunk Road\": [\"highway=trunk\", \"highway=trunk_link\"],\n",
        "    \"Primary Road\": [\"highway=primary\", \"highway=primary_link\"],\n",
        "    \"Secondary Road\": [\"highway=secondary\", \"highway=secondary_link\"],\n",
        "    \"Tertiary Road\": [\"highway=tertiary\", \"highway=tertiary_link\"],\n",
        "    \"Residential Road\": [\"highway=residential\"],\n",
        "    \"Railway\": [\"railway=rail\"],\n",
        "    \"Parking Lot\": [\"amenity=parking\"],\n",
        "    \"Residential Area\": [\"landuse=residential\"],\n",
        "    \"Commercial Area\": [\"landuse=commercial\"],\n",
        "    \"Retail Area\": [\"landuse=retail\"],\n",
        "    \"Industrial Area\": [\"landuse=industrial\"],\n",
        "    \"Railway Area\": [\"landuse=railway\"],\n",
        "    \"Cemetery\": [\"landuse=cemetery\"],\n",
        "    \"Woodland\": [\"natural=wood\", \"landuse=forest\"],\n",
        "    \"Park\": [\"leisure=park\"],\n",
        "    \"Recreation\": [\"landuse=recreation_ground\",\"leisure=playground\", \"leisure=pitch\",\"leisure=track\"],\n",
        "    \"Education\": [\"amenity=kindergarten\", \"amenity=school\",\"amenity=college\",\"amenity=university\"],\n",
        "    \"Health Care\": [\"amenity=hospital\",\"amenity=clinic\"],\n",
        "    \"Water\": [\"natural=water\"],\n",
        "    \"Beach\": [\"natural=beach\"],\n",
        "}\n",
        "\n",
        "# Load coordinates and Facility ID from the provided CSV\n",
        "coordinates = []\n",
        "facility_ids = []\n",
        "with open('/content/subset_2.csv', 'r') as csvfile:\n",
        "    csvreader = csv.DictReader(csvfile)\n",
        "    for row in csvreader:\n",
        "        # Extract the 'coordinates' column and split it into lat, lon\n",
        "        coords_string = row['coordinates']  # Adjust the key if the column name is different\n",
        "        coords_string = coords_string.strip('()')  # Remove the parentheses\n",
        "        lat_str, lon_str = coords_string.split(',')\n",
        "        lat = float(lat_str.strip())\n",
        "        lon = float(lon_str.strip())\n",
        "        coordinates.append((lat, lon))\n",
        "        # Also store the Facility ID\n",
        "        facility_ids.append(row['Facility ID'])  # Adjust if the column name is different\n",
        "\n",
        "radius = 402.34  # 1/4 mile in meters\n",
        "\n",
        "# Check if the output CSV exists to decide on writing headers\n",
        "file_exists = False\n",
        "try:\n",
        "    with open('osm_results_transposed.csv', 'r') as f:\n",
        "        file_exists = True\n",
        "except FileNotFoundError:\n",
        "    pass\n",
        "\n",
        "with open('osm_results_transposed.csv', 'a', newline='') as csvfile:\n",
        "    csvwriter = csv.writer(csvfile)\n",
        "\n",
        "    # Write the header row only if the file didn't exist\n",
        "    if not file_exists:\n",
        "        headers = [\"Facility ID\", \"Latitude\", \"Longitude\", \"Building Count\"] + list(vector_tags.keys())\n",
        "        csvwriter.writerow(headers)\n",
        "\n",
        "    # Loop through each coordinate pair and fetch results\n",
        "    for facility_id, (lat, lon) in zip(facility_ids, coordinates):\n",
        "        results_dict = {\"Facility ID\": facility_id, \"Latitude\": lat, \"Longitude\": lon}\n",
        "        building_count = query_building_count(lat, lon, radius)\n",
        "        results_dict[\"Building Count\"] = building_count\n",
        "        for vector, tags in vector_tags.items():\n",
        "            area = query_area_for_tags(lat, lon, radius, tags)\n",
        "            results_dict[vector] = f\"{area:.2f}\"\n",
        "\n",
        "        # Write the results row for the current coordinate pair\n",
        "        row_data = [results_dict[header] for header in headers]\n",
        "        csvwriter.writerow(row_data)\n",
        "\n",
        "print(\"Results appended to osm_results_transposed.csv\")\n"
      ],
      "metadata": {
        "id": "bhttg4NfIGUC",
        "colab": {
          "base_uri": "https://localhost:8080/"
        },
        "outputId": "3d2b1ff4-891f-41db-a17e-61ecbab50665"
      },
      "execution_count": null,
      "outputs": [
        {
          "output_type": "stream",
          "name": "stdout",
          "text": [
            "Results appended to osm_results_transposed.csv\n"
          ]
        }
      ]
    },
    {
      "cell_type": "markdown",
      "source": [
        "### **END**"
      ],
      "metadata": {
        "id": "XavVCU-LGaen"
      }
    }
  ]
}